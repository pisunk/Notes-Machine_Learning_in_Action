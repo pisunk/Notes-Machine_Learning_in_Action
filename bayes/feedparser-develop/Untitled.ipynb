{
 "cells": [
  {
   "cell_type": "code",
   "execution_count": 17,
   "metadata": {},
   "outputs": [
    {
     "data": {
      "text/plain": [
       "u'C:\\\\jupyter-notebook-files\\\\fuckthejuly\\\\bayes\\\\feedparser-develop'"
      ]
     },
     "execution_count": 17,
     "metadata": {},
     "output_type": "execute_result"
    }
   ],
   "source": [
    "pwd"
   ]
  },
  {
   "cell_type": "code",
   "execution_count": 19,
   "metadata": {},
   "outputs": [
    {
     "name": "stdout",
     "output_type": "stream",
     "text": [
      "running install\n",
      "running bdist_egg\n",
      "running egg_info\n",
      "creating feedparser.egg-info\n",
      "writing requirements to feedparser.egg-info\\requires.txt\n",
      "writing feedparser.egg-info\\PKG-INFO\n",
      "writing top-level names to feedparser.egg-info\\top_level.txt\n",
      "writing dependency_links to feedparser.egg-info\\dependency_links.txt\n",
      "writing manifest file 'feedparser.egg-info\\SOURCES.txt'\n",
      "reading manifest file 'feedparser.egg-info\\SOURCES.txt'\n",
      "reading manifest template 'MANIFEST.in'\n",
      "writing manifest file 'feedparser.egg-info\\SOURCES.txt'\n",
      "installing library code to build\\bdist.win-amd64\\egg\n",
      "running install_lib\n",
      "running build_py\n",
      "creating build\n",
      "creating build\\lib\n",
      "creating build\\lib\\feedparser\n",
      "copying feedparser\\api.py -> build\\lib\\feedparser\n",
      "copying feedparser\\encodings.py -> build\\lib\\feedparser\n",
      "copying feedparser\\exceptions.py -> build\\lib\\feedparser\n",
      "copying feedparser\\html.py -> build\\lib\\feedparser\n",
      "copying feedparser\\http.py -> build\\lib\\feedparser\n",
      "copying feedparser\\mixin.py -> build\\lib\\feedparser\n",
      "copying feedparser\\sanitizer.py -> build\\lib\\feedparser\n",
      "copying feedparser\\sgml.py -> build\\lib\\feedparser\n",
      "copying feedparser\\urls.py -> build\\lib\\feedparser\n",
      "copying feedparser\\util.py -> build\\lib\\feedparser\n",
      "copying feedparser\\__init__.py -> build\\lib\\feedparser\n",
      "creating build\\lib\\feedparser\\datetimes\n",
      "copying feedparser\\datetimes\\asctime.py -> build\\lib\\feedparser\\datetimes\n",
      "copying feedparser\\datetimes\\greek.py -> build\\lib\\feedparser\\datetimes\n",
      "copying feedparser\\datetimes\\hungarian.py -> build\\lib\\feedparser\\datetimes\n",
      "copying feedparser\\datetimes\\iso8601.py -> build\\lib\\feedparser\\datetimes\n",
      "copying feedparser\\datetimes\\korean.py -> build\\lib\\feedparser\\datetimes\n",
      "copying feedparser\\datetimes\\perforce.py -> build\\lib\\feedparser\\datetimes\n",
      "copying feedparser\\datetimes\\rfc822.py -> build\\lib\\feedparser\\datetimes\n",
      "copying feedparser\\datetimes\\w3dtf.py -> build\\lib\\feedparser\\datetimes\n",
      "copying feedparser\\datetimes\\__init__.py -> build\\lib\\feedparser\\datetimes\n",
      "creating build\\lib\\feedparser\\namespaces\n",
      "copying feedparser\\namespaces\\admin.py -> build\\lib\\feedparser\\namespaces\n",
      "copying feedparser\\namespaces\\cc.py -> build\\lib\\feedparser\\namespaces\n",
      "copying feedparser\\namespaces\\dc.py -> build\\lib\\feedparser\\namespaces\n",
      "copying feedparser\\namespaces\\georss.py -> build\\lib\\feedparser\\namespaces\n",
      "copying feedparser\\namespaces\\itunes.py -> build\\lib\\feedparser\\namespaces\n",
      "copying feedparser\\namespaces\\mediarss.py -> build\\lib\\feedparser\\namespaces\n",
      "copying feedparser\\namespaces\\psc.py -> build\\lib\\feedparser\\namespaces\n",
      "copying feedparser\\namespaces\\_base.py -> build\\lib\\feedparser\\namespaces\n",
      "copying feedparser\\namespaces\\__init__.py -> build\\lib\\feedparser\\namespaces\n",
      "creating build\\lib\\feedparser\\parsers\n",
      "copying feedparser\\parsers\\loose.py -> build\\lib\\feedparser\\parsers\n",
      "copying feedparser\\parsers\\strict.py -> build\\lib\\feedparser\\parsers\n",
      "copying feedparser\\parsers\\__init__.py -> build\\lib\\feedparser\\parsers\n",
      "creating build\\bdist.win-amd64\n",
      "creating build\\bdist.win-amd64\\egg\n",
      "creating build\\bdist.win-amd64\\egg\\feedparser\n",
      "copying build\\lib\\feedparser\\api.py -> build\\bdist.win-amd64\\egg\\feedparser\n",
      "creating build\\bdist.win-amd64\\egg\\feedparser\\datetimes\n",
      "copying build\\lib\\feedparser\\datetimes\\asctime.py -> build\\bdist.win-amd64\\egg\\feedparser\\datetimes\n",
      "copying build\\lib\\feedparser\\datetimes\\greek.py -> build\\bdist.win-amd64\\egg\\feedparser\\datetimes\n",
      "copying build\\lib\\feedparser\\datetimes\\hungarian.py -> build\\bdist.win-amd64\\egg\\feedparser\\datetimes\n",
      "copying build\\lib\\feedparser\\datetimes\\iso8601.py -> build\\bdist.win-amd64\\egg\\feedparser\\datetimes\n",
      "copying build\\lib\\feedparser\\datetimes\\korean.py -> build\\bdist.win-amd64\\egg\\feedparser\\datetimes\n",
      "copying build\\lib\\feedparser\\datetimes\\perforce.py -> build\\bdist.win-amd64\\egg\\feedparser\\datetimes\n",
      "copying build\\lib\\feedparser\\datetimes\\rfc822.py -> build\\bdist.win-amd64\\egg\\feedparser\\datetimes\n",
      "copying build\\lib\\feedparser\\datetimes\\w3dtf.py -> build\\bdist.win-amd64\\egg\\feedparser\\datetimes\n",
      "copying build\\lib\\feedparser\\datetimes\\__init__.py -> build\\bdist.win-amd64\\egg\\feedparser\\datetimes\n",
      "copying build\\lib\\feedparser\\encodings.py -> build\\bdist.win-amd64\\egg\\feedparser\n",
      "copying build\\lib\\feedparser\\exceptions.py -> build\\bdist.win-amd64\\egg\\feedparser\n",
      "copying build\\lib\\feedparser\\html.py -> build\\bdist.win-amd64\\egg\\feedparser\n",
      "copying build\\lib\\feedparser\\http.py -> build\\bdist.win-amd64\\egg\\feedparser\n",
      "copying build\\lib\\feedparser\\mixin.py -> build\\bdist.win-amd64\\egg\\feedparser\n",
      "creating build\\bdist.win-amd64\\egg\\feedparser\\namespaces\n",
      "copying build\\lib\\feedparser\\namespaces\\admin.py -> build\\bdist.win-amd64\\egg\\feedparser\\namespaces\n",
      "copying build\\lib\\feedparser\\namespaces\\cc.py -> build\\bdist.win-amd64\\egg\\feedparser\\namespaces\n",
      "copying build\\lib\\feedparser\\namespaces\\dc.py -> build\\bdist.win-amd64\\egg\\feedparser\\namespaces\n",
      "copying build\\lib\\feedparser\\namespaces\\georss.py -> build\\bdist.win-amd64\\egg\\feedparser\\namespaces\n",
      "copying build\\lib\\feedparser\\namespaces\\itunes.py -> build\\bdist.win-amd64\\egg\\feedparser\\namespaces\n",
      "copying build\\lib\\feedparser\\namespaces\\mediarss.py -> build\\bdist.win-amd64\\egg\\feedparser\\namespaces\n",
      "copying build\\lib\\feedparser\\namespaces\\psc.py -> build\\bdist.win-amd64\\egg\\feedparser\\namespaces\n",
      "copying build\\lib\\feedparser\\namespaces\\_base.py -> build\\bdist.win-amd64\\egg\\feedparser\\namespaces\n",
      "copying build\\lib\\feedparser\\namespaces\\__init__.py -> build\\bdist.win-amd64\\egg\\feedparser\\namespaces\n",
      "creating build\\bdist.win-amd64\\egg\\feedparser\\parsers\n",
      "copying build\\lib\\feedparser\\parsers\\loose.py -> build\\bdist.win-amd64\\egg\\feedparser\\parsers\n",
      "copying build\\lib\\feedparser\\parsers\\strict.py -> build\\bdist.win-amd64\\egg\\feedparser\\parsers\n",
      "copying build\\lib\\feedparser\\parsers\\__init__.py -> build\\bdist.win-amd64\\egg\\feedparser\\parsers\n",
      "copying build\\lib\\feedparser\\sanitizer.py -> build\\bdist.win-amd64\\egg\\feedparser\n",
      "copying build\\lib\\feedparser\\sgml.py -> build\\bdist.win-amd64\\egg\\feedparser\n",
      "copying build\\lib\\feedparser\\urls.py -> build\\bdist.win-amd64\\egg\\feedparser\n",
      "copying build\\lib\\feedparser\\util.py -> build\\bdist.win-amd64\\egg\\feedparser\n",
      "copying build\\lib\\feedparser\\__init__.py -> build\\bdist.win-amd64\\egg\\feedparser\n",
      "byte-compiling build\\bdist.win-amd64\\egg\\feedparser\\api.py to api.pyc\n",
      "byte-compiling build\\bdist.win-amd64\\egg\\feedparser\\datetimes\\asctime.py to asctime.pyc\n",
      "byte-compiling build\\bdist.win-amd64\\egg\\feedparser\\datetimes\\greek.py to greek.pyc\n",
      "byte-compiling build\\bdist.win-amd64\\egg\\feedparser\\datetimes\\hungarian.py to hungarian.pyc\n",
      "byte-compiling build\\bdist.win-amd64\\egg\\feedparser\\datetimes\\iso8601.py to iso8601.pyc\n",
      "byte-compiling build\\bdist.win-amd64\\egg\\feedparser\\datetimes\\korean.py to korean.pyc\n",
      "byte-compiling build\\bdist.win-amd64\\egg\\feedparser\\datetimes\\perforce.py to perforce.pyc\n",
      "byte-compiling build\\bdist.win-amd64\\egg\\feedparser\\datetimes\\rfc822.py to rfc822.pyc\n",
      "byte-compiling build\\bdist.win-amd64\\egg\\feedparser\\datetimes\\w3dtf.py to w3dtf.pyc\n",
      "byte-compiling build\\bdist.win-amd64\\egg\\feedparser\\datetimes\\__init__.py to __init__.pyc\n",
      "byte-compiling build\\bdist.win-amd64\\egg\\feedparser\\encodings.py to encodings.pyc\n",
      "byte-compiling build\\bdist.win-amd64\\egg\\feedparser\\exceptions.py to exceptions.pyc\n",
      "byte-compiling build\\bdist.win-amd64\\egg\\feedparser\\html.py to html.pyc\n",
      "byte-compiling build\\bdist.win-amd64\\egg\\feedparser\\http.py to http.pyc\n",
      "byte-compiling build\\bdist.win-amd64\\egg\\feedparser\\mixin.py to mixin.pyc\n",
      "byte-compiling build\\bdist.win-amd64\\egg\\feedparser\\namespaces\\admin.py to admin.pyc\n",
      "byte-compiling build\\bdist.win-amd64\\egg\\feedparser\\namespaces\\cc.py to cc.pyc\n",
      "byte-compiling build\\bdist.win-amd64\\egg\\feedparser\\namespaces\\dc.py to dc.pyc\n",
      "byte-compiling build\\bdist.win-amd64\\egg\\feedparser\\namespaces\\georss.py to georss.pyc\n",
      "byte-compiling build\\bdist.win-amd64\\egg\\feedparser\\namespaces\\itunes.py to itunes.pyc\n",
      "byte-compiling build\\bdist.win-amd64\\egg\\feedparser\\namespaces\\mediarss.py to mediarss.pyc\n",
      "byte-compiling build\\bdist.win-amd64\\egg\\feedparser\\namespaces\\psc.py to psc.pyc\n",
      "byte-compiling build\\bdist.win-amd64\\egg\\feedparser\\namespaces\\_base.py to _base.pyc\n",
      "byte-compiling build\\bdist.win-amd64\\egg\\feedparser\\namespaces\\__init__.py to __init__.pyc\n",
      "byte-compiling build\\bdist.win-amd64\\egg\\feedparser\\parsers\\loose.py to loose.pyc\n"
     ]
    },
    {
     "name": "stdout",
     "output_type": "stream",
     "text": [
      "byte-compiling build\\bdist.win-amd64\\egg\\feedparser\\parsers\\strict.py to strict.pyc\n",
      "byte-compiling build\\bdist.win-amd64\\egg\\feedparser\\parsers\\__init__.py to __init__.pyc\n",
      "byte-compiling build\\bdist.win-amd64\\egg\\feedparser\\sanitizer.py to sanitizer.pyc\n",
      "byte-compiling build\\bdist.win-amd64\\egg\\feedparser\\sgml.py to sgml.pyc\n",
      "byte-compiling build\\bdist.win-amd64\\egg\\feedparser\\urls.py to urls.pyc\n",
      "byte-compiling build\\bdist.win-amd64\\egg\\feedparser\\util.py to util.pyc\n",
      "byte-compiling build\\bdist.win-amd64\\egg\\feedparser\\__init__.py to __init__.pyc\n",
      "creating build\\bdist.win-amd64\\egg\\EGG-INFO\n",
      "copying feedparser.egg-info\\PKG-INFO -> build\\bdist.win-amd64\\egg\\EGG-INFO\n",
      "copying feedparser.egg-info\\SOURCES.txt -> build\\bdist.win-amd64\\egg\\EGG-INFO\n",
      "copying feedparser.egg-info\\dependency_links.txt -> build\\bdist.win-amd64\\egg\\EGG-INFO\n",
      "copying feedparser.egg-info\\requires.txt -> build\\bdist.win-amd64\\egg\\EGG-INFO\n",
      "copying feedparser.egg-info\\top_level.txt -> build\\bdist.win-amd64\\egg\\EGG-INFO\n"
     ]
    },
    {
     "name": "stderr",
     "output_type": "stream",
     "text": [
      "zip_safe flag not set; analyzing archive contents...\n"
     ]
    },
    {
     "name": "stdout",
     "output_type": "stream",
     "text": [
      "creating dist\n",
      "creating 'dist\\feedparser-5.2.1-py2.7.egg' and adding 'build\\bdist.win-amd64\\egg' to it\n",
      "removing 'build\\bdist.win-amd64\\egg' (and everything under it)\n",
      "Processing feedparser-5.2.1-py2.7.egg\n",
      "Copying feedparser-5.2.1-py2.7.egg to c:\\anaconda3\\envs\\py2\\lib\\site-packages\n",
      "Adding feedparser 5.2.1 to easy-install.pth file\n",
      "\n",
      "Installed c:\\anaconda3\\envs\\py2\\lib\\site-packages\\feedparser-5.2.1-py2.7.egg\n",
      "Processing dependencies for feedparser==5.2.1\n",
      "Finished processing dependencies for feedparser==5.2.1\n"
     ]
    }
   ],
   "source": [
    "%run setup.py install"
   ]
  }
 ],
 "metadata": {
  "kernelspec": {
   "display_name": "Python 2",
   "language": "python",
   "name": "python2"
  },
  "language_info": {
   "codemirror_mode": {
    "name": "ipython",
    "version": 2
   },
   "file_extension": ".py",
   "mimetype": "text/x-python",
   "name": "python",
   "nbconvert_exporter": "python",
   "pygments_lexer": "ipython2",
   "version": "2.7.13"
  }
 },
 "nbformat": 4,
 "nbformat_minor": 2
}
