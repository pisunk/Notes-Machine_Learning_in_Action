{
 "cells": [
  {
   "cell_type": "code",
   "execution_count": 1,
   "metadata": {
    "collapsed": true
   },
   "outputs": [],
   "source": [
    "from numpy import *"
   ]
  },
  {
   "cell_type": "code",
   "execution_count": 2,
   "metadata": {
    "collapsed": true
   },
   "outputs": [],
   "source": [
    "def loadDataSet(fileName):    # 通用函数，用来解析以 tab 键分隔的 floats（浮点数）\n",
    "    dataMat = []\n",
    "    fr = open(fileName)\n",
    "    for line in fr.readlines():\n",
    "        curLine = line.strip().split('\\t')\n",
    "        fltLine = map(float,curLine)    # 映射所有的元素为 float（浮点数）类型\n",
    "        dataMat.append(fltLine)\n",
    "    return dataMat"
   ]
  },
  {
   "cell_type": "code",
   "execution_count": 3,
   "metadata": {
    "collapsed": true
   },
   "outputs": [],
   "source": [
    "# 计算两个向量的欧式距离（可根据场景选择）\n",
    "def distEclud(vecA, vecB):\n",
    "    return sqrt(sum(power(vecA - vecB, 2))) # la.norm(vecA-vecB)"
   ]
  },
  {
   "cell_type": "code",
   "execution_count": 16,
   "metadata": {
    "collapsed": true
   },
   "outputs": [],
   "source": [
    "# 为给定数据集构建一个包含 k 个随机质心的集合。随机质心必须要在整个数据集的边界之内，这可以通过找到数据集每一维的最小和最大值来完成。然后生成 0~1.0 之间的随机数并通过取值范围和最小值，以便确保随机点在数据的边界之内。\n",
    "def randCent(dataSet, k):\n",
    "    n = shape(dataSet)[1] # 列的数量 shape[0]第一维长度 shape[1]第二维长度\n",
    "    centroids = mat(zeros((k,n))) # 创建k个质心矩阵\n",
    "    for j in range(n): # 创建随机簇质心，并且在每一维的边界内\n",
    "        minJ = min(dataSet[:,j])    # 最小值\n",
    "        rangeJ = float(max(dataSet[:,j]) - minJ)    # 范围 = 最大值 - 最小值\n",
    "        centroids[:,j] = mat(minJ + rangeJ * random.rand(k,1))    # 随机生成\n",
    "    return centroids"
   ]
  },
  {
   "cell_type": "code",
   "execution_count": 6,
   "metadata": {
    "collapsed": true
   },
   "outputs": [],
   "source": [
    "# k-means 聚类算法\n",
    "# 该算法会创建k个质心，然后将每个点分配到最近的质心，再重新计算质心。\n",
    "# 这个过程重复数次，知道数据点的簇分配结果不再改变位置。\n",
    "# 运行结果（多次运行结果可能会不一样，可以试试，原因为随机质心的影响，但总的结果是对的， 因为数据足够相似，也可能会陷入局部最小值）\n",
    "def kMeans(dataSet, k, distMeas=distEclud, createCent=randCent):\n",
    "    m = shape(dataSet)[0]    # 行数\n",
    "    clusterAssment = mat(zeros((m, 2)))    # 创建一个与 dataSet 行数一样，但是有两列的矩阵，用来保存簇分配结果\n",
    "    centroids = createCent(dataSet, k)    # 创建质心，随机k个质心\n",
    "    clusterChanged = True\n",
    "    while clusterChanged:\n",
    "        clusterChanged = False\n",
    "        for i in range(m):    # 循环每一个数据点并分配到最近的质心中去\n",
    "            minDist = inf; minIndex = -1\n",
    "            for j in range(k):\n",
    "                distJI = distMeas(centroids[j,:],dataSet[i,:])    # 计算数据点到质心的距离\n",
    "                if distJI < minDist:    # 如果距离比 minDist（最小距离）还小，更新 minDist（最小距离）和最小质心的 index（索引）\n",
    "                    minDist = distJI; minIndex = j\n",
    "            if clusterAssment[i, 0] != minIndex:    # 簇分配结果改变\n",
    "                clusterChanged = True    # 簇改变\n",
    "                clusterAssment[i, :] = minIndex,minDist**2    # 更新簇分配结果为最小质心的 index（索引），minDist（最小距离）的平方\n",
    "        print centroids\n",
    "        for cent in range(k): # 更新质心\n",
    "            ptsInClust = dataSet[nonzero(clusterAssment[:, 0].A==cent)[0]] # 获取该簇中的所有点\n",
    "            centroids[cent,:] = mean(ptsInClust, axis=0) # 将质心修改为簇中所有点的平均值，mean 就是求平均值的\n",
    "    return centroids, clusterAssment\n",
    "\n",
    "# 二分 KMeans 聚类算法, 基于 kMeans 基础之上的优化，以避免陷入局部最小值\n",
    "def biKMeans(dataSet, k, distMeas=distEclud):\n",
    "    m = shape(dataSet)[0]\n",
    "    clusterAssment = mat(zeros((m,2))) # 保存每个数据点的簇分配结果和平方误差\n",
    "    centroid0 = mean(dataSet, axis=0).tolist()[0] # 质心初始化为所有数据点的均值\n",
    "    centList =[centroid0] # 初始化只有 1 个质心的 list\n",
    "    for j in range(m): # 计算所有数据点到初始质心的距离平方误差\n",
    "        clusterAssment[j,1] = distMeas(mat(centroid0), dataSet[j,:])**2\n",
    "    while (len(centList) < k): # 当质心数量小于 k 时\n",
    "        lowestSSE = inf\n",
    "        for i in range(len(centList)): # 对每一个质心\n",
    "            ptsInCurrCluster = dataSet[nonzero(clusterAssment[:,0].A==i)[0],:] # 获取当前簇 i 下的所有数据点\n",
    "            centroidMat, splitClustAss = kMeans(ptsInCurrCluster, 2, distMeas) # 将当前簇 i 进行二分 kMeans 处理\n",
    "            sseSplit = sum(splitClustAss[:,1]) # 将二分 kMeans 结果中的平方和的距离进行求和\n",
    "            sseNotSplit = sum(clusterAssment[nonzero(clusterAssment[:,0].A!=i)[0],1]) # 将未参与二分 kMeans 分配结果中的平方和的距离进行求和\n",
    "            print \"sseSplit, and notSplit: \",sseSplit,sseNotSplit\n",
    "            if (sseSplit + sseNotSplit) < lowestSSE:\n",
    "                bestCentToSplit = i\n",
    "                bestNewCents = centroidMat\n",
    "                bestClustAss = splitClustAss.copy()\n",
    "                lowestSSE = sseSplit + sseNotSplit\n",
    "        # 找出最好的簇分配结果    \n",
    "        bestClustAss[nonzero(bestClustAss[:,0].A == 1)[0],0] = len(centList) # 调用二分 kMeans 的结果，默认簇是 0,1. 当然也可以改成其它的数字\n",
    "        bestClustAss[nonzero(bestClustAss[:,0].A == 0)[0],0] = bestCentToSplit # 更新为最佳质心\n",
    "        print 'the bestCentToSplit is: ',bestCentToSplit\n",
    "        print 'the len of bestClustAss is: ', len(bestClustAss)\n",
    "        # 更新质心列表\n",
    "        centList[bestCentToSplit] = bestNewCents[0,:].tolist()[0] # 更新原质心 list 中的第 i 个质心为使用二分 kMeans 后 bestNewCents 的第一个质心\n",
    "        centList.append(bestNewCents[1,:].tolist()[0]) # 添加 bestNewCents 的第二个质心\n",
    "        clusterAssment[nonzero(clusterAssment[:,0].A == bestCentToSplit)[0],:]= bestClustAss # 重新分配最好簇下的数据（质心）以及SSE\n",
    "    return mat(centList), clusterAssment"
   ]
  },
  {
   "cell_type": "code",
   "execution_count": 7,
   "metadata": {
    "collapsed": true
   },
   "outputs": [],
   "source": [
    "def testBasicFunc():\n",
    "    # 加载测试数据集\n",
    "    datMat = mat(loadDataSet('10.KMeans/testSet.txt'))\n",
    "\n",
    "    # 测试 randCent() 函数是否正常运行。\n",
    "    # 首先，先看一下矩阵中的最大值与最小值\n",
    "    print 'min(datMat[:, 0])=', min(datMat[:, 0])\n",
    "    print 'min(datMat[:, 1])=', min(datMat[:, 1])\n",
    "    print 'max(datMat[:, 1])=', max(datMat[:, 1])\n",
    "    print 'max(datMat[:, 0])=', max(datMat[:, 0])\n",
    "\n",
    "    # 然后看看 randCent() 函数能否生成 min 到 max 之间的值\n",
    "    print 'randCent(datMat, 2)=', randCent(datMat, 2)\n",
    "\n",
    "    # 最后测试一下距离计算方法\n",
    "    print ' distEclud(datMat[0], datMat[1])=', distEclud(datMat[0], datMat[1])\n",
    "\n",
    "def testKMeans():\n",
    "    # 加载测试数据集\n",
    "    datMat = mat(loadDataSet('10.KMeans/testSet.txt'))\n",
    "\n",
    "    # 该算法会创建k个质心，然后将每个点分配到最近的质心，再重新计算质心。\n",
    "    # 这个过程重复数次，知道数据点的簇分配结果不再改变位置。\n",
    "    # 运行结果（多次运行结果可能会不一样，可以试试，原因为随机质心的影响，但总的结果是对的， 因为数据足够相似）\n",
    "    myCentroids, clustAssing = kMeans(datMat, 4)\n",
    "\n",
    "    print 'centroids=', myCentroids\n",
    "\n",
    "def testBiKMeans():\n",
    "    # 加载测试数据集\n",
    "    datMat = mat(loadDataSet('10.KMeans/testSet2.txt'))\n",
    "\n",
    "    centList, myNewAssments = biKMeans(datMat, 3)\n",
    "\n",
    "    print 'centList=', centList"
   ]
  },
  {
   "cell_type": "code",
   "execution_count": 14,
   "metadata": {
    "scrolled": true
   },
   "outputs": [
    {
     "name": "stdout",
     "output_type": "stream",
     "text": [
      "min(datMat[:, 0])= [[-5.379713]]\n",
      "min(datMat[:, 1])= [[-4.232586]]\n",
      "max(datMat[:, 1])= [[ 5.1904]]\n",
      "max(datMat[:, 0])= [[ 4.838138]]\n",
      "randCent(datMat, 2)= nnnnnn\n",
      "2\n",
      "[[ 0.27656738 -3.1093461 ]\n",
      " [ 0.27512854  4.11072286]]\n",
      " distEclud(datMat[0], datMat[1])= 5.18463281668\n",
      "==================================================\n",
      "[[-1.33886155  0.98584083]\n",
      " [ 4.49117437  2.82224818]\n",
      " [-0.01959672  2.6091127 ]\n",
      " [-1.1216449  -3.96455993]]\n",
      "[[-2.6509714   2.39277907]\n",
      " [ 3.35821883  1.83169994]\n",
      " [ 0.1399645   3.52317367]\n",
      " [-0.8757714  -3.05132209]]\n",
      "[[-2.70030241  2.70457282]\n",
      " [ 3.28916832  1.87925674]\n",
      " [ 0.63371075  3.74202925]\n",
      " [-0.83188333 -2.97988206]]\n",
      "[[-2.54951105  2.75812458]\n",
      " [ 3.34647022  1.79546189]\n",
      " [ 1.40899843  3.84245271]\n",
      " [-0.83188333 -2.97988206]]\n",
      "[[-2.46154315  2.78737555]\n",
      " [ 3.67314583  0.937859  ]\n",
      " [ 2.23432133  3.71816925]\n",
      " [-0.83188333 -2.97988206]]\n",
      "[[-2.46154315  2.78737555]\n",
      " [ 3.6509195  -0.5281174 ]\n",
      " [ 2.5212765   3.49464725]\n",
      " [-1.05611215 -3.00107638]]\n",
      "[[-2.46154315  2.78737555]\n",
      " [ 3.1666855  -2.38897356]\n",
      " [ 2.54391447  3.21299611]\n",
      " [-2.79969165 -3.01951378]]\n",
      "[[-2.46154315  2.78737555]\n",
      " [ 2.80293085 -2.7315146 ]\n",
      " [ 2.6265299   3.10868015]\n",
      " [-3.38237045 -2.9473363 ]]\n",
      "centroids= [[-2.46154315  2.78737555]\n",
      " [ 2.80293085 -2.7315146 ]\n",
      " [ 2.6265299   3.10868015]\n",
      " [-3.38237045 -2.9473363 ]]\n",
      "==================================================\n",
      "[[-0.211077   -2.92036092]\n",
      " [ 4.36673617 -0.44548705]]\n",
      "[[-1.70351595  0.27408125]\n",
      " [ 2.93386365  3.12782785]]\n",
      "sseSplit, and notSplit:  335.963358956 0.0\n",
      "the bestCentToSplit is:  0\n",
      "the len of bestClustAss is:  60\n",
      "[[-0.72569216 -1.31851084]\n",
      " [-0.75580759 -3.23295054]]\n",
      "[[-2.66477608  2.53132313]\n",
      " [-0.26162575 -3.11178156]]\n",
      "[[-2.94737575  3.3263781 ]\n",
      " [-0.45965615 -2.7782156 ]]\n",
      "sseSplit, and notSplit:  36.3092570454 335.963358956\n",
      "[[ 3.95831288  3.62761803]\n",
      " [ 1.18307937  0.72826067]]\n",
      "[[ 3.22386325  3.31375137]\n",
      " [ 1.77386525  2.38413375]]\n",
      "[[ 3.43418257  3.29036421]\n",
      " [ 1.76645283  2.74857633]]\n",
      "[[ 3.55066577  3.20197931]\n",
      " [ 1.788374    2.990118  ]]\n",
      "sseSplit, and notSplit:  24.5012623448 0.0\n",
      "the bestCentToSplit is:  1\n",
      "the len of bestClustAss is:  20\n",
      "centList= [[-1.70351595  0.27408125]\n",
      " [ 3.55066577  3.20197931]\n",
      " [ 1.788374    2.990118  ]]\n"
     ]
    }
   ],
   "source": [
    "    # 测试基础的函数\n",
    "testBasicFunc()\n",
    "print \"==================================================\"\n",
    "    # 测试 kMeans 函数\n",
    "testKMeans()\n",
    "print \"==================================================\"\n",
    "    # 测试二分 biKMeans 函数\n",
    "testBiKMeans()\n"
   ]
  }
 ],
 "metadata": {
  "kernelspec": {
   "display_name": "Python 2",
   "language": "python",
   "name": "python2"
  },
  "language_info": {
   "codemirror_mode": {
    "name": "ipython",
    "version": 2
   },
   "file_extension": ".py",
   "mimetype": "text/x-python",
   "name": "python",
   "nbconvert_exporter": "python",
   "pygments_lexer": "ipython2",
   "version": "2.7.13"
  }
 },
 "nbformat": 4,
 "nbformat_minor": 2
}
